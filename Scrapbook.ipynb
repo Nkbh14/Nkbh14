{
  "nbformat": 4,
  "nbformat_minor": 0,
  "metadata": {
    "colab": {
      "name": "Scrapbook.ipynb",
      "provenance": [],
      "collapsed_sections": [],
      "authorship_tag": "ABX9TyPB6yocmjEPusC0s9f8UEuy",
      "include_colab_link": true
    },
    "kernelspec": {
      "name": "python3",
      "display_name": "Python 3"
    },
    "language_info": {
      "name": "python"
    }
  },
  "cells": [
    {
      "cell_type": "markdown",
      "metadata": {
        "id": "view-in-github",
        "colab_type": "text"
      },
      "source": [
        "<a href=\"https://colab.research.google.com/github/Nkbh14/Nkbh14/blob/main/Scrapbook.ipynb\" target=\"_parent\"><img src=\"https://colab.research.google.com/assets/colab-badge.svg\" alt=\"Open In Colab\"/></a>"
      ]
    },
    {
      "cell_type": "code",
      "execution_count": null,
      "metadata": {
        "colab": {
          "base_uri": "https://localhost:8080/"
        },
        "id": "KbKlVaE36Mlv",
        "outputId": "f66f7512-34c7-4926-c183-8351c75448af"
      },
      "outputs": [
        {
          "output_type": "execute_result",
          "data": {
            "text/plain": [
              "True"
            ]
          },
          "metadata": {},
          "execution_count": 1
        }
      ],
      "source": [
        "s='madam'\n",
        "'dam' in s"
      ]
    },
    {
      "cell_type": "code",
      "source": [
        "def substring(s,subs):\n",
        "  if subs in s:\n",
        "    print(True)\n",
        "  else:\n",
        "    print(False)"
      ],
      "metadata": {
        "id": "bCZ9h3Qy6UkV"
      },
      "execution_count": null,
      "outputs": []
    },
    {
      "cell_type": "code",
      "source": [
        "substring('madam','mam')"
      ],
      "metadata": {
        "colab": {
          "base_uri": "https://localhost:8080/"
        },
        "id": "BRIxIiTr6rJw",
        "outputId": "5ca43185-d893-461b-c63d-40d0b98b2400"
      },
      "execution_count": null,
      "outputs": [
        {
          "output_type": "stream",
          "name": "stdout",
          "text": [
            "False\n"
          ]
        }
      ]
    },
    {
      "cell_type": "code",
      "source": [
        "li=[13,-25,-98.78,385]\n",
        "mean=sum(li)/len(li)\n",
        "print(mean)\n",
        "a=[]\n",
        "for i in li:\n",
        "  a.append((i-mean)**2)\n",
        "((sum(a)/(len(li))))**0.5"
      ],
      "metadata": {
        "id": "kxiSzV7q6u6F",
        "colab": {
          "base_uri": "https://localhost:8080/"
        },
        "outputId": "694d87ae-af79-4946-d22d-22ca6593bcc4"
      },
      "execution_count": null,
      "outputs": [
        {
          "output_type": "stream",
          "name": "stdout",
          "text": [
            "68.555\n"
          ]
        },
        {
          "output_type": "execute_result",
          "data": {
            "text/plain": [
              "187.06772590428312"
            ]
          },
          "metadata": {},
          "execution_count": 25
        }
      ]
    },
    {
      "cell_type": "code",
      "source": [
        ""
      ],
      "metadata": {
        "id": "0gh1l4OFSqWu"
      },
      "execution_count": null,
      "outputs": []
    },
    {
      "cell_type": "code",
      "source": [
        "import numpy as np\n",
        "l=np.array(li)\n",
        "np.std(l)"
      ],
      "metadata": {
        "colab": {
          "base_uri": "https://localhost:8080/"
        },
        "id": "SX05bZohP3VV",
        "outputId": "b7f81064-b248-49a6-b700-c1255d9749fe"
      },
      "execution_count": null,
      "outputs": [
        {
          "output_type": "execute_result",
          "data": {
            "text/plain": [
              "187.06772590428312"
            ]
          },
          "metadata": {},
          "execution_count": 20
        }
      ]
    },
    {
      "cell_type": "code",
      "source": [
        ""
      ],
      "metadata": {
        "id": "yBQhz7teRDyr"
      },
      "execution_count": null,
      "outputs": []
    }
  ]
}